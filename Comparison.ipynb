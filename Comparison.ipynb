{
 "cells": [
  {
   "cell_type": "code",
   "execution_count": 1,
   "metadata": {},
   "outputs": [],
   "source": [
    "# SEKCJA KONFIGURACYJNA\n",
    "INSTANCE_N = 10\n",
    "OUTPUT_DIR = 'outputs'"
   ]
  },
  {
   "cell_type": "code",
   "execution_count": 2,
   "metadata": {},
   "outputs": [],
   "source": [
    "import numpy as np\n",
    "from matplotlib import pyplot as plt"
   ]
  },
  {
   "cell_type": "code",
   "execution_count": 5,
   "metadata": {},
   "outputs": [
    {
     "data": {
      "text/plain": [
       "<BarContainer object of 10 artists>"
      ]
     },
     "execution_count": 5,
     "metadata": {},
     "output_type": "execute_result"
    },
    {
     "data": {
      "image/png": "[encoded data removed]",
      "text/plain": [
       "<Figure size 432x288 with 1 Axes>"
      ]
     },
     "metadata": {
      "needs_background": "light"
     },
     "output_type": "display_data"
    },
    {
     "data": {
      "image/png": "[encoded data removed]",
      "text/plain": [
       "<Figure size 432x288 with 1 Axes>"
      ]
     },
     "metadata": {
      "needs_background": "light"
     },
     "output_type": "display_data"
    }
   ],
   "source": [
    "x = [i+1 for i in range(INSTANCE_N)]\n",
    "y_ud = [int(line) for line in open('{}/output_upDown'.format(OUTPUT_DIR), 'r')]    # ud - upDown\n",
    "y_h = [int(line) for line in open('{}/output_heap'.format(OUTPUT_DIR), 'r')]       # h - Heap\n",
    "\n",
    "x_limit = max(max(y_ud), max(y_h))\n",
    "x_limit += x_limit/5\n",
    "plot1 = plt.figure(1)\n",
    "plt.xlim(0, x_limit)\n",
    "plt.title('UpDown Greedy')\n",
    "plt.ylabel('Instances')\n",
    "plt.xlabel('Times')\n",
    "plt.barh(x, y_ud, edgecolor='black')\n",
    "\n",
    "plot2 = plt.figure(2)\n",
    "plt.xlim(0, x_limit)\n",
    "plt.title('Heap Greedy')\n",
    "plt.ylabel('Instances')\n",
    "plt.xlabel('Times')\n",
    "plt.barh(x, y_h, color='green', edgecolor='black')"
   ]
  },
  {
   "cell_type": "code",
   "execution_count": null,
   "metadata": {},
   "outputs": [],
   "source": []
  }
 ],
 "metadata": {
  "kernelspec": {
   "display_name": "Python 3",
   "language": "python",
   "name": "python3"
  },
  "language_info": {
   "codemirror_mode": {
    "name": "ipython",
    "version": 3
   },
   "file_extension": ".py",
   "mimetype": "text/x-python",
   "name": "python",
   "nbconvert_exporter": "python",
   "pygments_lexer": "ipython3",
   "version": "3.9.0"
  }
 },
 "nbformat": 4,
 "nbformat_minor": 4
}
