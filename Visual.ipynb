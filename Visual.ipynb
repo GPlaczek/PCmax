{
 "cells": [
  {
   "cell_type": "code",
   "execution_count": 1,
   "metadata": {},
   "outputs": [],
   "source": [
    "OUTPUT_DIR = 'outputs'"
   ]
  },
  {
   "cell_type": "code",
   "execution_count": 2,
   "metadata": {},
   "outputs": [],
   "source": [
    "import numpy as np\n",
    "from matplotlib import pyplot as plt"
   ]
  },
  {
   "cell_type": "code",
   "execution_count": 4,
   "metadata": {},
   "outputs": [
    {
     "data": {
      "image/png": "[encoded data removed]",
      "text/plain": [
       "<Figure size 432x288 with 1 Axes>"
      ]
     },
     "metadata": {
      "needs_background": "light"
     },
     "output_type": "display_data"
    },
    {
     "name": "stdout",
     "output_type": "stream",
     "text": [
      "Cmax:  1121 \n",
      "Cmin:  680\n"
     ]
    }
   ],
   "source": [
    "f = open('{}/output'.format(OUTPUT_DIR), 'r')\n",
    "nProc = int(f.readline()) \n",
    "nTask = int(f.readline())\n",
    "\n",
    "y = [int(i) for i in range(1, nProc+1)]\n",
    "x = [int(line) for line in f]\n",
    "f.close()\n",
    "\n",
    "plt.barh(y,x)\n",
    "plt.show()\n",
    "\n",
    "print(\"Cmax: \", max(x), \"\\nCmin: \", min(x))"
   ]
  },
  {
   "cell_type": "code",
   "execution_count": null,
   "metadata": {},
   "outputs": [],
   "source": []
  }
 ],
 "metadata": {
  "kernelspec": {
   "display_name": "Python 3",
   "language": "python",
   "name": "python3"
  },
  "language_info": {
   "codemirror_mode": {
    "name": "ipython",
    "version": 3
   },
   "file_extension": ".py",
   "mimetype": "text/x-python",
   "name": "python",
   "nbconvert_exporter": "python",
   "pygments_lexer": "ipython3",
   "version": "3.9.0"
  }
 },
 "nbformat": 4,
 "nbformat_minor": 4
}
