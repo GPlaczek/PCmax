{
 "cells": [
  {
   "cell_type": "markdown",
   "metadata": {},
   "source": [
    "#### Instalacja wymaganych bibliotek:"
   ]
  },
  {
   "cell_type": "markdown",
   "metadata": {},
   "source": [
    "pip install -r deps"
   ]
  },
  {
   "cell_type": "markdown",
   "metadata": {},
   "source": [
    "#### Tworzenie folderów:"
   ]
  },
  {
   "cell_type": "code",
   "execution_count": 1,
   "metadata": {},
   "outputs": [],
   "source": [
    "import os\n",
    "def mkdir(directory):\n",
    "    try: \n",
    "        os.mkdir(directory)\n",
    "    except:\n",
    "        pass # print('Dir already exists.')\n",
    "    \n",
    "OUTPUTS_DIR = 'outputs'\n",
    "PLOTS_DIR = 'plots'\n",
    "INST_DIR = 'instances'\n",
    "PLOTS_DIR = 'plots'\n",
    "BINS_DIR = 'bin'\n",
    "EV = 'ev'\n",
    "GR = 'gr'\n",
    "\n",
    "mkdir(OUTPUTS_DIR)\n",
    "mkdir(PLOTS_DIR)\n",
    "mkdir(INST_DIR)\n",
    "mkdir(PLOTS_DIR)\n",
    "mkdir(BINS_DIR)\n",
    "mkdir('{}/{}'.format(OUTPUTS_DIR,EV))\n",
    "mkdir('{}/{}'.format(OUTPUTS_DIR,GR))"
   ]
  },
  {
   "cell_type": "markdown",
   "metadata": {},
   "source": [
    "#### Generowanie instancji:"
   ]
  },
  {
   "cell_type": "code",
   "execution_count": 2,
   "metadata": {},
   "outputs": [],
   "source": [
    "FILE = \"inst.txt\"\n",
    "!python benchmarkGen.py {FILE}"
   ]
  },
  {
   "cell_type": "markdown",
   "metadata": {},
   "source": [
    "#### Kompilowanie plików źródłowych:"
   ]
  },
  {
   "cell_type": "code",
   "execution_count": 3,
   "metadata": {
    "scrolled": true
   },
   "outputs": [
    {
     "name": "stdout",
     "output_type": "stream",
     "text": [
      "Success\n"
     ]
    }
   ],
   "source": [
    "if not (os.system(\"g++ -Wall -o bin/main src/main.cpp src/evolutional.cpp src/greedy.cpp\")):\n",
    "    print(\"Success\")\n",
    "else:\n",
    "    print(\"Error\")"
   ]
  },
  {
   "cell_type": "markdown",
   "metadata": {},
   "source": [
    "#### Uruchamianie algorytmu:"
   ]
  },
  {
   "cell_type": "code",
   "execution_count": 4,
   "metadata": {},
   "outputs": [],
   "source": [
    "import subprocess\n",
    "PATH = os.path.abspath('')\n",
    "a = subprocess.run(['./bin/main'], capture_output=True)"
   ]
  },
  {
   "cell_type": "code",
   "execution_count": 5,
   "metadata": {},
   "outputs": [],
   "source": [
    "import numpy as np\n",
    "from matplotlib import pyplot as plt\n",
    "import pandas as pd\n",
    "from pandas.plotting import table \n",
    "INSTANCES = len(os.listdir('{}/{}'.format(PATH,INST_DIR)))"
   ]
  },
  {
   "cell_type": "code",
   "execution_count": 6,
   "metadata": {
    "scrolled": true
   },
   "outputs": [
    {
     "ename": "NameError",
     "evalue": "name 'OUTPUT_DIR' is not defined",
     "output_type": "error",
     "traceback": [
      "\u001b[0;31m---------------------------------------------------------------------------\u001b[0m",
      "\u001b[0;31mNameError\u001b[0m                                 Traceback (most recent call last)",
      "\u001b[0;32m/tmp/ipykernel_3466/1566511108.py\u001b[0m in \u001b[0;36m<module>\u001b[0;34m\u001b[0m\n\u001b[1;32m     10\u001b[0m \u001b[0;34m\u001b[0m\u001b[0m\n\u001b[1;32m     11\u001b[0m \u001b[0;32mfor\u001b[0m \u001b[0mi\u001b[0m \u001b[0;32min\u001b[0m \u001b[0mrange\u001b[0m\u001b[0;34m(\u001b[0m\u001b[0;36m1\u001b[0m\u001b[0;34m,\u001b[0m\u001b[0mINSTANCES\u001b[0m\u001b[0;34m+\u001b[0m\u001b[0;36m1\u001b[0m\u001b[0;34m)\u001b[0m\u001b[0;34m:\u001b[0m\u001b[0;34m\u001b[0m\u001b[0;34m\u001b[0m\u001b[0m\n\u001b[0;32m---> 12\u001b[0;31m     \u001b[0mev\u001b[0m \u001b[0;34m=\u001b[0m \u001b[0mopen\u001b[0m\u001b[0;34m(\u001b[0m\u001b[0;34m'{}/ev/evolutional_{}'\u001b[0m\u001b[0;34m.\u001b[0m\u001b[0mformat\u001b[0m\u001b[0;34m(\u001b[0m\u001b[0mOUTPUT_DIR\u001b[0m\u001b[0;34m,\u001b[0m\u001b[0mi\u001b[0m\u001b[0;34m)\u001b[0m\u001b[0;34m,\u001b[0m \u001b[0;34m'r'\u001b[0m\u001b[0;34m)\u001b[0m\u001b[0;34m\u001b[0m\u001b[0;34m\u001b[0m\u001b[0m\n\u001b[0m\u001b[1;32m     13\u001b[0m     \u001b[0mCmax\u001b[0m \u001b[0;34m=\u001b[0m \u001b[0mint\u001b[0m\u001b[0;34m(\u001b[0m\u001b[0mev\u001b[0m\u001b[0;34m.\u001b[0m\u001b[0mreadline\u001b[0m\u001b[0;34m(\u001b[0m\u001b[0;34m)\u001b[0m\u001b[0;34m)\u001b[0m\u001b[0;34m\u001b[0m\u001b[0;34m\u001b[0m\u001b[0m\n\u001b[1;32m     14\u001b[0m     \u001b[0mnProc\u001b[0m \u001b[0;34m=\u001b[0m \u001b[0mint\u001b[0m\u001b[0;34m(\u001b[0m\u001b[0mev\u001b[0m\u001b[0;34m.\u001b[0m\u001b[0mreadline\u001b[0m\u001b[0;34m(\u001b[0m\u001b[0;34m)\u001b[0m\u001b[0;34m)\u001b[0m\u001b[0;34m\u001b[0m\u001b[0;34m\u001b[0m\u001b[0m\n",
      "\u001b[0;31mNameError\u001b[0m: name 'OUTPUT_DIR' is not defined"
     ]
    }
   ],
   "source": [
    "summary = []\n",
    "performances = {'ev': [], 'gr': []}\n",
    "\n",
    "def createSubPlot(ax, x, clr, max_val):\n",
    "    ax.barh(y,x,color=clr)\n",
    "    ax.set(ylim=(0.5,max_val+0.5))\n",
    "    ax.set_xlabel('Cmax values')\n",
    "    ax.set_ylabel('Instances')\n",
    "    \n",
    "        \n",
    "for i in range(1,INSTANCES+1):\n",
    "    ev = open('{}/ev/evolutional_{}'.format(OUTPUT_DIR,i), 'r')\n",
    "    Cmax = int(ev.readline())\n",
    "    nProc = int(ev.readline()) \n",
    "    nTask = int(ev.readline())\n",
    "\n",
    "    gr = open('{}/gr/greedy_{}'.format(OUTPUT_DIR,i), 'r')\n",
    "    _ = [gr.readline() for _ in range(3)] # Cmax, nProc, nTask    \n",
    "    \n",
    "    y = np.arange(1,nProc+1)\n",
    "    x_opt = [Cmax for _ in range(nProc)] # optimal \n",
    "    x_ev = [int(line) for line in ev.readlines()] # evolutional\n",
    "    x_gr = [int(line) for line in gr.readlines()] # greedy\n",
    "    ev.close()\n",
    "    gr.close()\n",
    "    \n",
    "    ev_accuracy = round(Cmax / max(x_ev) * 100,3)\n",
    "    gr_accuracy = round(Cmax / max(x_gr) * 100,3)\n",
    "    \n",
    "    fig, ax = plt.subplots(1, 3, figsize=(20,5))\n",
    "    fig.suptitle(\"nProc = {}   nTask = {}\\n Optimal: {}   Result: {}   Accuracy: {} %\".format(nProc, nTask, Cmax, max(x_ev), ev_accuracy))\n",
    "\n",
    "    createSubPlot(ax[0], x_opt, 'blue', nProc)\n",
    "    createSubPlot(ax[1], x_ev, 'green', nProc)\n",
    "    createSubPlot(ax[2], x_gr, 'purple', nProc)\n",
    "\n",
    "    plt.savefig('{}/{}/plots_{}.svg'.format(PATH, PLOTS_DIR, i))\n",
    "    plt.show()\n",
    "    \n",
    "    summary.append([Cmax, max(x_ev), max(x_gr), ev_accuracy, gr_accuracy])\n"
   ]
  },
  {
   "cell_type": "code",
   "execution_count": null,
   "metadata": {},
   "outputs": [],
   "source": [
    "summary.sort(key=lambda x: x[0])\n",
    "    \n",
    "# podsumowanie wyników dla każdej instancji\n",
    "y = np.arange(1,INSTANCES+1)\n",
    "x_opt = [el[0] for el in summary]\n",
    "x_ev = [el[1] for el in summary]\n",
    "x_gr = [el[2] for el in summary]\n",
    "\n",
    "\n",
    "fig, ax = plt.subplots(1,3,figsize=(20,5))\n",
    "fig.suptitle(\"Summary\")\n",
    "createSubPlot(ax[0], x_opt, 'blue', INSTANCES)\n",
    "createSubPlot(ax[1], x_ev, 'green', INSTANCES)\n",
    "createSubPlot(ax[2], x_gr, 'purple', INSTANCES)\n",
    "\n",
    "plt.savefig(PATH + '/plots/summary.svg')\n",
    "plt.show()\n"
   ]
  },
  {
   "cell_type": "code",
   "execution_count": null,
   "metadata": {},
   "outputs": [],
   "source": [
    "plt.figure(figsize=(8,6))\n",
    "plt.ylim(0.8,INSTANCES+0.75)\n",
    "plt.barh(y, x_opt, color='blue', height=0.3)\n",
    "plt.barh(y+0.25, x_ev, color='green', height=0.3)\n",
    "plt.barh(y+0.5, x_gr, color='purple', height=0.3)\n",
    "plt.legend([\"Optimal\", \"Evolutional\", \"Greedy\"])\n",
    "plt.title('Compared')\n",
    "plt.xlabel('Cmax values')\n",
    "plt.ylabel('Instances')\n",
    "plt.yticks(y,y)\n",
    "plt.savefig(PATH + '/plots/compared.svg', transparent=False, facecolor='w')\n",
    "plt.show()"
   ]
  },
  {
   "cell_type": "code",
   "execution_count": null,
   "metadata": {},
   "outputs": [],
   "source": [
    "import dataframe_image as dfi\n",
    "\n",
    "data = {'Optimal':[el[0] for el in summary],\n",
    "       'Greedy':[el[2] for el in summary],\n",
    "       'Greedy Accuracy':[el[4] for el in summary],\n",
    "       'Evolutional':[el[1] for el in summary],\n",
    "       'Evolutional Accuracy':[el[3] for el in summary]}\n",
    "df = pd.DataFrame(data)\n",
    "df.index = np.arange(1, len(df)+1)\n",
    "\n",
    "dfi.export(df,PATH+\"/plots/data.svg\")\n",
    "df"
   ]
  },
  {
   "cell_type": "code",
   "execution_count": null,
   "metadata": {},
   "outputs": [],
   "source": []
  }
 ],
 "metadata": {
  "kernelspec": {
   "display_name": "Python 3 (ipykernel)",
   "language": "python",
   "name": "python3"
  },
  "language_info": {
   "codemirror_mode": {
    "name": "ipython",
    "version": 3
   },
   "file_extension": ".py",
   "mimetype": "text/x-python",
   "name": "python",
   "nbconvert_exporter": "python",
   "pygments_lexer": "ipython3",
   "version": "3.10.1"
  }
 },
 "nbformat": 4,
 "nbformat_minor": 4
}
