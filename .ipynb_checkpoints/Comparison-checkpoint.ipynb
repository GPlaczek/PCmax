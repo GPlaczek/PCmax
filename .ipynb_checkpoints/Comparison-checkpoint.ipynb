{
 "cells": [
  {
   "cell_type": "code",
   "execution_count": 1,
   "metadata": {},
   "outputs": [],
   "source": [
    "# SEKCJA KONFIGURACYJNA\n",
    "INSTANCE_N = 10\n",
    "OUTPUT_DIR = 'outputs'"
   ]
  },
  {
   "cell_type": "code",
   "execution_count": 2,
   "metadata": {},
   "outputs": [],
   "source": [
    "import numpy as np\n",
    "from matplotlib import pyplot as plt"
   ]
  },
  {
   "cell_type": "code",
   "execution_count": 3,
   "metadata": {},
   "outputs": [
    {
     "data": {
      "text/plain": [
       "<BarContainer object of 10 artists>"
      ]
     },
     "execution_count": 3,
     "metadata": {},
     "output_type": "execute_result"
    },
    {
     "data": {
      "image/png": "[encoded data removed]",
      "text/plain": [
       "<Figure size 432x288 with 1 Axes>"
      ]
     },
     "metadata": {
      "needs_background": "light"
     },
     "output_type": "display_data"
    },
    {
     "data": {
      "image/png": "[encoded data removed]",
      "text/plain": [
       "<Figure size 432x288 with 1 Axes>"
      ]
     },
     "metadata": {
      "needs_background": "light"
     },
     "output_type": "display_data"
    }
   ],
   "source": [
    "x = [i+1 for i in range(INSTANCE_N)]\n",
    "y_lpt = [int(line) for line in open('{}/lpt'.format(OUTPUT_DIR), 'r')]\n",
    "y_gree = [int(line) for line in open('{}/greedy'.format(OUTPUT_DIR), 'r')]\n",
    "y_brut = [int(line) for line in open('{}/brute'.format(OUTPUT_DIR), 'r')]\n",
    "y_genO = [int(line) for line in open('{}/geneticO'.format(OUTPUT_DIR), 'r')]\n",
    "y_genG = [int(line) for line in open('{}/geneticG'.format(OUTPUT_DIR), 'r')]\n",
    "\n",
    "x_limit = max(max(y_lpt), max(y_gree), max(y_brut), max(y_genO), max(y_genG))\n",
    "x_limit += x_limit/5\n",
    "\n",
    "'''plot1 = plt.figure(1)\n",
    "plt.xlim(0, x_limit)\n",
    "plt.title('LPT (beta)')\n",
    "plt.ylabel('Instances')\n",
    "plt.xlabel('Cmax')\n",
    "plt.barh(x, y_lpt, edgecolor='black')\n",
    "\n",
    "plot2 = plt.figure(2)\n",
    "plt.xlim(0, x_limit)\n",
    "plt.title('Greedy-Heap')\n",
    "plt.ylabel('Instances')\n",
    "plt.xlabel('Cmax')\n",
    "plt.barh(x, y_gree, color='green', edgecolor='black')\n",
    "'''\n",
    "plot3 = plt.figure(3)\n",
    "plt.xlim(0, x_limit)\n",
    "plt.title('Brute Force')\n",
    "plt.ylabel('Instances')\n",
    "plt.xlabel('Cmax')\n",
    "plt.barh(x, y_brut, color='yellow', edgecolor='black')\n",
    "\n",
    "'''plot4 = plt.figure(4)\n",
    "plt.xlim(0, x_limit)\n",
    "plt.title('Genetic_O')\n",
    "plt.ylabel('Instances')\n",
    "plt.xlabel('Cmax')\n",
    "plt.barh(x, y_genO, color='red', edgecolor='black')'''\n",
    "\n",
    "plot5 = plt.figure(5)\n",
    "plt.xlim(0, x_limit)\n",
    "plt.title('Genetic_G')\n",
    "plt.ylabel('Instances')\n",
    "plt.xlabel('Cmax')\n",
    "plt.barh(x, y_genG, color='magenta', edgecolor='black')"
   ]
  },
  {
   "cell_type": "code",
   "execution_count": null,
   "metadata": {},
   "outputs": [],
   "source": []
  }
 ],
 "metadata": {
  "kernelspec": {
   "display_name": "Python 3",
   "language": "python",
   "name": "python3"
  },
  "language_info": {
   "codemirror_mode": {
    "name": "ipython",
    "version": 3
   },
   "file_extension": ".py",
   "mimetype": "text/x-python",
   "name": "python",
   "nbconvert_exporter": "python",
   "pygments_lexer": "ipython3",
   "version": "3.9.0"
  }
 },
 "nbformat": 4,
 "nbformat_minor": 4
}
